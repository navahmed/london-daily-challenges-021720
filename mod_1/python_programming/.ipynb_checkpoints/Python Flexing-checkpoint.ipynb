{
 "cells": [
  {
   "cell_type": "markdown",
   "metadata": {},
   "source": [
    "# Python Skills "
   ]
  },
  {
   "cell_type": "markdown",
   "metadata": {},
   "source": [
    "In this last code challenge, we'll revisit some of the core skills we looked at last week. Here we will give you a chance to practice working with lists, dictionaries, loops, and other data structures in Python. \n",
    "\n",
    "In this daily challenge, we will work with a dictionary of data regarding meta-data for some bands."
   ]
  },
  {
   "cell_type": "code",
   "execution_count": 1,
   "metadata": {},
   "outputs": [],
   "source": [
    "bands = {\n",
    "    'Bjork': {\n",
    "        'age': 54,\n",
    "        'nationality': 'Icelandic',\n",
    "        'albums': ['Debut','Post','Homogenic','Utopia']\n",
    "    },\n",
    "    'Madonna': {\n",
    "        'age': 61,\n",
    "        'nationality': 'American',\n",
    "        'albums': ['Madonna', 'Like a Virgin', 'Ray of Light','Like a Prayer']\n",
    "    },\n",
    "    'Dr. Dre': {\n",
    "        'age': 55,\n",
    "        'nationality': 'American',\n",
    "        'albums': ['The Chronic', '2001', 'Compton']\n",
    "    },\n",
    "    'Lil Nas X': {\n",
    "        'age': 27,\n",
    "        'nationality': 'American',\n",
    "        'albumns': ['7']\n",
    "    },\n",
    "    'Lang Lang': {\n",
    "        'age': 27,\n",
    "        'nationality': 'Chinese',\n",
    "        'albums': ['Dreams of China', 'The Mozart Album']\n",
    "    }\n",
    "}"
   ]
  },
  {
   "cell_type": "markdown",
   "metadata": {},
   "source": [
    "## Task 1\n",
    "\n",
    "For the first part of this challenge, extract out all of the the names of the artists. You _could_ do this with a for loop, but there is also an easier way! Save the results into an object calle `artists`. Make sure your output works!"
   ]
  },
  {
   "cell_type": "code",
   "execution_count": 8,
   "metadata": {},
   "outputs": [],
   "source": [
    "artists_bands = []\n",
    "for key, values in bands.items():\n",
    "    artists_bands.append(key)"
   ]
  },
  {
   "cell_type": "code",
   "execution_count": 9,
   "metadata": {},
   "outputs": [
    {
     "data": {
      "text/plain": [
       "['Bjork', 'Madonna', 'Dr. Dre', 'Lil Nas X', 'Lang Lang']"
      ]
     },
     "execution_count": 9,
     "metadata": {},
     "output_type": "execute_result"
    }
   ],
   "source": [
    "artists_bands"
   ]
  },
  {
   "cell_type": "code",
   "execution_count": 2,
   "metadata": {},
   "outputs": [],
   "source": [
    "artists = list(bands.keys())"
   ]
  },
  {
   "cell_type": "code",
   "execution_count": 3,
   "metadata": {},
   "outputs": [
    {
     "name": "stdout",
     "output_type": "stream",
     "text": [
      "['Bjork', 'Madonna', 'Dr. Dre', 'Lil Nas X', 'Lang Lang']\n"
     ]
    }
   ],
   "source": [
    "print(artists)"
   ]
  },
  {
   "cell_type": "markdown",
   "metadata": {},
   "source": [
    "## Task 2 "
   ]
  },
  {
   "cell_type": "markdown",
   "metadata": {},
   "source": [
    "Next create a list of tuples the contain both the artist's name and their nationality."
   ]
  },
  {
   "cell_type": "markdown",
   "metadata": {},
   "source": [
    "The output should look something like # Ex: [('Bjork', 'Icelandic'), ('Madonna', 'American'), ...]\n"
   ]
  },
  {
   "cell_type": "code",
   "execution_count": 15,
   "metadata": {},
   "outputs": [],
   "source": [
    "artist_nationality = []\n",
    "for artist in artists:\n",
    "    artist_nationality.append((artist, bands[artist]['nationality']))\n",
    "    "
   ]
  },
  {
   "cell_type": "code",
   "execution_count": 16,
   "metadata": {},
   "outputs": [
    {
     "data": {
      "text/plain": [
       "[('Bjork', 'Icelandic'),\n",
       " ('Madonna', 'American'),\n",
       " ('Dr. Dre', 'American'),\n",
       " ('Lil Nas X', 'American'),\n",
       " ('Lang Lang', 'Chinese')]"
      ]
     },
     "execution_count": 16,
     "metadata": {},
     "output_type": "execute_result"
    }
   ],
   "source": [
    "artist_nationality"
   ]
  },
  {
   "cell_type": "markdown",
   "metadata": {},
   "source": [
    "## Task 3 "
   ]
  },
  {
   "cell_type": "markdown",
   "metadata": {},
   "source": [
    "Lastly, define a function that when given a nationality, will return all of the artists with that nationality! For example, if you were to write `get_artist_nationality('American')` it would return Madonna, Dr. Dre, and Lil Nas X. "
   ]
  },
  {
   "cell_type": "code",
   "execution_count": 21,
   "metadata": {},
   "outputs": [
    {
     "data": {
      "text/plain": [
       "'Icelandic'"
      ]
     },
     "execution_count": 21,
     "metadata": {},
     "output_type": "execute_result"
    }
   ],
   "source": [
    "bands['Bjork']['nationality']"
   ]
  },
  {
   "cell_type": "code",
   "execution_count": 108,
   "metadata": {},
   "outputs": [
    {
     "data": {
      "text/plain": [
       "['Bjork', 'Madonna', 'Dr. Dre', 'Lil Nas X', 'Lang Lang']"
      ]
     },
     "execution_count": 108,
     "metadata": {},
     "output_type": "execute_result"
    }
   ],
   "source": [
    "artists"
   ]
  },
  {
   "cell_type": "code",
   "execution_count": 115,
   "metadata": {},
   "outputs": [],
   "source": [
    "def get_artist_nationality(x):\n",
    "    artist_list = []\n",
    "    for artist in artists:\n",
    "        if x in bands[artist]['nationality']:\n",
    "            artist_list.append(artist)\n",
    "    return artist_list"
   ]
  },
  {
   "cell_type": "code",
   "execution_count": 118,
   "metadata": {},
   "outputs": [
    {
     "data": {
      "text/plain": [
       "['Madonna', 'Dr. Dre', 'Lil Nas X']"
      ]
     },
     "execution_count": 118,
     "metadata": {},
     "output_type": "execute_result"
    }
   ],
   "source": [
    "get_artist_nationality('American')"
   ]
  },
  {
   "cell_type": "code",
   "execution_count": 128,
   "metadata": {},
   "outputs": [
    {
     "data": {
      "text/plain": [
       "['Bjork']"
      ]
     },
     "execution_count": 128,
     "metadata": {},
     "output_type": "execute_result"
    }
   ],
   "source": [
    "get_artist_nationality('Icelandic')"
   ]
  },
  {
   "cell_type": "code",
   "execution_count": 129,
   "metadata": {},
   "outputs": [
    {
     "data": {
      "text/plain": [
       "['Lang Lang']"
      ]
     },
     "execution_count": 129,
     "metadata": {},
     "output_type": "execute_result"
    }
   ],
   "source": [
    "get_artist_nationality('Chinese')"
   ]
  }
 ],
 "metadata": {
  "kernelspec": {
   "display_name": "Python 3",
   "language": "python",
   "name": "python3"
  },
  "language_info": {
   "codemirror_mode": {
    "name": "ipython",
    "version": 3
   },
   "file_extension": ".py",
   "mimetype": "text/x-python",
   "name": "python",
   "nbconvert_exporter": "python",
   "pygments_lexer": "ipython3",
   "version": "3.7.3"
  }
 },
 "nbformat": 4,
 "nbformat_minor": 4
}
